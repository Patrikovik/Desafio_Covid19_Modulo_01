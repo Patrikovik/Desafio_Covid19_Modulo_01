{
  "nbformat": 4,
  "nbformat_minor": 0,
  "metadata": {
    "colab": {
      "name": "Covid_19_Number_of_Cases_and_deaths.ipynb",
      "provenance": [],
      "collapsed_sections": []
    },
    "kernelspec": {
      "name": "python3",
      "display_name": "Python 3"
    }
  },
  "cells": [
    {
      "cell_type": "markdown",
      "metadata": {
        "id": "DiAFmuQZO8m7"
      },
      "source": [
        "## Instalação,Importação das bibliotecas e dos dados."
      ]
    },
    {
      "cell_type": "code",
      "metadata": {
        "id": "0SCOASDfWigY",
        "outputId": "1c26655a-1385-4e1d-c223-40639ceec399",
        "colab": {
          "base_uri": "https://localhost:8080/"
        }
      },
      "source": [
        "!pip install missingno"
      ],
      "execution_count": 5,
      "outputs": [
        {
          "output_type": "stream",
          "text": [
            "Requirement already satisfied: missingno in /usr/local/lib/python3.6/dist-packages (0.4.2)\n",
            "Requirement already satisfied: matplotlib in /usr/local/lib/python3.6/dist-packages (from missingno) (3.2.2)\n",
            "Requirement already satisfied: scipy in /usr/local/lib/python3.6/dist-packages (from missingno) (1.4.1)\n",
            "Requirement already satisfied: numpy in /usr/local/lib/python3.6/dist-packages (from missingno) (1.18.5)\n",
            "Requirement already satisfied: seaborn in /usr/local/lib/python3.6/dist-packages (from missingno) (0.11.0)\n",
            "Requirement already satisfied: python-dateutil>=2.1 in /usr/local/lib/python3.6/dist-packages (from matplotlib->missingno) (2.8.1)\n",
            "Requirement already satisfied: cycler>=0.10 in /usr/local/lib/python3.6/dist-packages (from matplotlib->missingno) (0.10.0)\n",
            "Requirement already satisfied: pyparsing!=2.0.4,!=2.1.2,!=2.1.6,>=2.0.1 in /usr/local/lib/python3.6/dist-packages (from matplotlib->missingno) (2.4.7)\n",
            "Requirement already satisfied: kiwisolver>=1.0.1 in /usr/local/lib/python3.6/dist-packages (from matplotlib->missingno) (1.3.1)\n",
            "Requirement already satisfied: pandas>=0.23 in /usr/local/lib/python3.6/dist-packages (from seaborn->missingno) (1.1.4)\n",
            "Requirement already satisfied: six>=1.5 in /usr/local/lib/python3.6/dist-packages (from python-dateutil>=2.1->matplotlib->missingno) (1.15.0)\n",
            "Requirement already satisfied: pytz>=2017.2 in /usr/local/lib/python3.6/dist-packages (from pandas>=0.23->seaborn->missingno) (2018.9)\n"
          ],
          "name": "stdout"
        }
      ]
    },
    {
      "cell_type": "code",
      "metadata": {
        "id": "aA27L0FUO_z1"
      },
      "source": [
        "import pandas as pd\n",
        "import numpy as np\n",
        "import seaborn as sns\n",
        "import missingno as msno\n",
        "import matplotlib.pyplot as plt\n",
        "# sns.set()"
      ],
      "execution_count": 6,
      "outputs": []
    },
    {
      "cell_type": "code",
      "metadata": {
        "id": "b2YsvMo-ShZ0",
        "outputId": "48812996-0eb6-4266-ba58-77065f2b22e6",
        "colab": {
          "base_uri": "https://localhost:8080/",
          "height": 609
        }
      },
      "source": [
        "#https://brasil.io/dataset/covid19/caso_full/\n",
        "pd.options.display.float_format='{:.2f}'.format\n",
        "covid19 = pd.read_csv('caso_full.csv.gz', compression = 'gzip')\n",
        "covid19.shape\n",
        "covid19"
      ],
      "execution_count": 7,
      "outputs": [
        {
          "output_type": "execute_result",
          "data": {
            "text/html": [
              "<div>\n",
              "<style scoped>\n",
              "    .dataframe tbody tr th:only-of-type {\n",
              "        vertical-align: middle;\n",
              "    }\n",
              "\n",
              "    .dataframe tbody tr th {\n",
              "        vertical-align: top;\n",
              "    }\n",
              "\n",
              "    .dataframe thead th {\n",
              "        text-align: right;\n",
              "    }\n",
              "</style>\n",
              "<table border=\"1\" class=\"dataframe\">\n",
              "  <thead>\n",
              "    <tr style=\"text-align: right;\">\n",
              "      <th></th>\n",
              "      <th>city</th>\n",
              "      <th>city_ibge_code</th>\n",
              "      <th>date</th>\n",
              "      <th>epidemiological_week</th>\n",
              "      <th>estimated_population</th>\n",
              "      <th>estimated_population_2019</th>\n",
              "      <th>is_last</th>\n",
              "      <th>is_repeated</th>\n",
              "      <th>last_available_confirmed</th>\n",
              "      <th>last_available_confirmed_per_100k_inhabitants</th>\n",
              "      <th>last_available_date</th>\n",
              "      <th>last_available_death_rate</th>\n",
              "      <th>last_available_deaths</th>\n",
              "      <th>order_for_place</th>\n",
              "      <th>place_type</th>\n",
              "      <th>state</th>\n",
              "      <th>new_confirmed</th>\n",
              "      <th>new_deaths</th>\n",
              "    </tr>\n",
              "  </thead>\n",
              "  <tbody>\n",
              "    <tr>\n",
              "      <th>0</th>\n",
              "      <td>São Paulo</td>\n",
              "      <td>3550308.00</td>\n",
              "      <td>2020-02-25</td>\n",
              "      <td>9</td>\n",
              "      <td>12325232.00</td>\n",
              "      <td>12252023.00</td>\n",
              "      <td>False</td>\n",
              "      <td>False</td>\n",
              "      <td>1</td>\n",
              "      <td>0.01</td>\n",
              "      <td>2020-02-25</td>\n",
              "      <td>0.00</td>\n",
              "      <td>0</td>\n",
              "      <td>1</td>\n",
              "      <td>city</td>\n",
              "      <td>SP</td>\n",
              "      <td>1</td>\n",
              "      <td>0</td>\n",
              "    </tr>\n",
              "    <tr>\n",
              "      <th>1</th>\n",
              "      <td>NaN</td>\n",
              "      <td>35.00</td>\n",
              "      <td>2020-02-25</td>\n",
              "      <td>9</td>\n",
              "      <td>46289333.00</td>\n",
              "      <td>45919049.00</td>\n",
              "      <td>False</td>\n",
              "      <td>False</td>\n",
              "      <td>1</td>\n",
              "      <td>0.00</td>\n",
              "      <td>2020-02-25</td>\n",
              "      <td>0.00</td>\n",
              "      <td>0</td>\n",
              "      <td>1</td>\n",
              "      <td>state</td>\n",
              "      <td>SP</td>\n",
              "      <td>1</td>\n",
              "      <td>0</td>\n",
              "    </tr>\n",
              "    <tr>\n",
              "      <th>2</th>\n",
              "      <td>São Paulo</td>\n",
              "      <td>3550308.00</td>\n",
              "      <td>2020-02-26</td>\n",
              "      <td>9</td>\n",
              "      <td>12325232.00</td>\n",
              "      <td>12252023.00</td>\n",
              "      <td>False</td>\n",
              "      <td>False</td>\n",
              "      <td>1</td>\n",
              "      <td>0.01</td>\n",
              "      <td>2020-02-26</td>\n",
              "      <td>0.00</td>\n",
              "      <td>0</td>\n",
              "      <td>2</td>\n",
              "      <td>city</td>\n",
              "      <td>SP</td>\n",
              "      <td>0</td>\n",
              "      <td>0</td>\n",
              "    </tr>\n",
              "    <tr>\n",
              "      <th>3</th>\n",
              "      <td>NaN</td>\n",
              "      <td>35.00</td>\n",
              "      <td>2020-02-26</td>\n",
              "      <td>9</td>\n",
              "      <td>46289333.00</td>\n",
              "      <td>45919049.00</td>\n",
              "      <td>False</td>\n",
              "      <td>False</td>\n",
              "      <td>1</td>\n",
              "      <td>0.00</td>\n",
              "      <td>2020-02-26</td>\n",
              "      <td>0.00</td>\n",
              "      <td>0</td>\n",
              "      <td>2</td>\n",
              "      <td>state</td>\n",
              "      <td>SP</td>\n",
              "      <td>0</td>\n",
              "      <td>0</td>\n",
              "    </tr>\n",
              "    <tr>\n",
              "      <th>4</th>\n",
              "      <td>São Paulo</td>\n",
              "      <td>3550308.00</td>\n",
              "      <td>2020-02-27</td>\n",
              "      <td>9</td>\n",
              "      <td>12325232.00</td>\n",
              "      <td>12252023.00</td>\n",
              "      <td>False</td>\n",
              "      <td>False</td>\n",
              "      <td>1</td>\n",
              "      <td>0.01</td>\n",
              "      <td>2020-02-27</td>\n",
              "      <td>0.00</td>\n",
              "      <td>0</td>\n",
              "      <td>3</td>\n",
              "      <td>city</td>\n",
              "      <td>SP</td>\n",
              "      <td>0</td>\n",
              "      <td>0</td>\n",
              "    </tr>\n",
              "    <tr>\n",
              "      <th>...</th>\n",
              "      <td>...</td>\n",
              "      <td>...</td>\n",
              "      <td>...</td>\n",
              "      <td>...</td>\n",
              "      <td>...</td>\n",
              "      <td>...</td>\n",
              "      <td>...</td>\n",
              "      <td>...</td>\n",
              "      <td>...</td>\n",
              "      <td>...</td>\n",
              "      <td>...</td>\n",
              "      <td>...</td>\n",
              "      <td>...</td>\n",
              "      <td>...</td>\n",
              "      <td>...</td>\n",
              "      <td>...</td>\n",
              "      <td>...</td>\n",
              "      <td>...</td>\n",
              "    </tr>\n",
              "    <tr>\n",
              "      <th>1016010</th>\n",
              "      <td>NaN</td>\n",
              "      <td>43.00</td>\n",
              "      <td>2020-11-07</td>\n",
              "      <td>45</td>\n",
              "      <td>11422973.00</td>\n",
              "      <td>11377239.00</td>\n",
              "      <td>True</td>\n",
              "      <td>False</td>\n",
              "      <td>260188</td>\n",
              "      <td>2277.76</td>\n",
              "      <td>2020-11-07</td>\n",
              "      <td>0.02</td>\n",
              "      <td>5990</td>\n",
              "      <td>243</td>\n",
              "      <td>state</td>\n",
              "      <td>RS</td>\n",
              "      <td>2403</td>\n",
              "      <td>17</td>\n",
              "    </tr>\n",
              "    <tr>\n",
              "      <th>1016011</th>\n",
              "      <td>NaN</td>\n",
              "      <td>42.00</td>\n",
              "      <td>2020-11-07</td>\n",
              "      <td>45</td>\n",
              "      <td>7252502.00</td>\n",
              "      <td>7164788.00</td>\n",
              "      <td>True</td>\n",
              "      <td>False</td>\n",
              "      <td>273652</td>\n",
              "      <td>3773.21</td>\n",
              "      <td>2020-11-07</td>\n",
              "      <td>0.01</td>\n",
              "      <td>3202</td>\n",
              "      <td>241</td>\n",
              "      <td>state</td>\n",
              "      <td>SC</td>\n",
              "      <td>5008</td>\n",
              "      <td>29</td>\n",
              "    </tr>\n",
              "    <tr>\n",
              "      <th>1016012</th>\n",
              "      <td>NaN</td>\n",
              "      <td>28.00</td>\n",
              "      <td>2020-11-07</td>\n",
              "      <td>45</td>\n",
              "      <td>2318822.00</td>\n",
              "      <td>2298696.00</td>\n",
              "      <td>True</td>\n",
              "      <td>False</td>\n",
              "      <td>85226</td>\n",
              "      <td>3675.40</td>\n",
              "      <td>2020-11-07</td>\n",
              "      <td>0.03</td>\n",
              "      <td>2239</td>\n",
              "      <td>239</td>\n",
              "      <td>state</td>\n",
              "      <td>SE</td>\n",
              "      <td>173</td>\n",
              "      <td>4</td>\n",
              "    </tr>\n",
              "    <tr>\n",
              "      <th>1016013</th>\n",
              "      <td>NaN</td>\n",
              "      <td>35.00</td>\n",
              "      <td>2020-11-07</td>\n",
              "      <td>45</td>\n",
              "      <td>46289333.00</td>\n",
              "      <td>45919049.00</td>\n",
              "      <td>False</td>\n",
              "      <td>True</td>\n",
              "      <td>1125936</td>\n",
              "      <td>2432.39</td>\n",
              "      <td>2020-11-05</td>\n",
              "      <td>0.04</td>\n",
              "      <td>39717</td>\n",
              "      <td>257</td>\n",
              "      <td>state</td>\n",
              "      <td>SP</td>\n",
              "      <td>0</td>\n",
              "      <td>0</td>\n",
              "    </tr>\n",
              "    <tr>\n",
              "      <th>1016014</th>\n",
              "      <td>NaN</td>\n",
              "      <td>17.00</td>\n",
              "      <td>2020-11-07</td>\n",
              "      <td>45</td>\n",
              "      <td>1590248.00</td>\n",
              "      <td>1572866.00</td>\n",
              "      <td>False</td>\n",
              "      <td>True</td>\n",
              "      <td>76739</td>\n",
              "      <td>4825.60</td>\n",
              "      <td>2020-11-06</td>\n",
              "      <td>0.01</td>\n",
              "      <td>1112</td>\n",
              "      <td>235</td>\n",
              "      <td>state</td>\n",
              "      <td>TO</td>\n",
              "      <td>0</td>\n",
              "      <td>0</td>\n",
              "    </tr>\n",
              "  </tbody>\n",
              "</table>\n",
              "<p>1016015 rows × 18 columns</p>\n",
              "</div>"
            ],
            "text/plain": [
              "              city  city_ibge_code        date  ...  state  new_confirmed  new_deaths\n",
              "0        São Paulo      3550308.00  2020-02-25  ...     SP              1           0\n",
              "1              NaN           35.00  2020-02-25  ...     SP              1           0\n",
              "2        São Paulo      3550308.00  2020-02-26  ...     SP              0           0\n",
              "3              NaN           35.00  2020-02-26  ...     SP              0           0\n",
              "4        São Paulo      3550308.00  2020-02-27  ...     SP              0           0\n",
              "...            ...             ...         ...  ...    ...            ...         ...\n",
              "1016010        NaN           43.00  2020-11-07  ...     RS           2403          17\n",
              "1016011        NaN           42.00  2020-11-07  ...     SC           5008          29\n",
              "1016012        NaN           28.00  2020-11-07  ...     SE            173           4\n",
              "1016013        NaN           35.00  2020-11-07  ...     SP              0           0\n",
              "1016014        NaN           17.00  2020-11-07  ...     TO              0           0\n",
              "\n",
              "[1016015 rows x 18 columns]"
            ]
          },
          "metadata": {
            "tags": []
          },
          "execution_count": 7
        }
      ]
    },
    {
      "cell_type": "markdown",
      "metadata": {
        "id": "8v8yfz_qX5Jh"
      },
      "source": [
        "## Investigação dos dados.\n",
        "\n",
        "Como se trata de uma base de dados relativamente extensa, é importante verificar a qualidade dos dados para futuras análises e integração com outras bases de dados.\n",
        "\n",
        "Para isto, inicialmente, será utilizado a lib missingno para verificar os *missings* na base de dados.\n",
        "\n"
      ]
    },
    {
      "cell_type": "code",
      "metadata": {
        "id": "iGqA3FAKZC-J",
        "outputId": "18a013ea-74ac-4428-f06f-ad111716cd48",
        "colab": {
          "base_uri": "https://localhost:8080/",
          "height": 897
        }
      },
      "source": [
        "plt.figure(figsize=(10,10))\n",
        "msno.matrix(covid19)\n",
        "plt.title('Matrix de valores faltantes na base de dados',fontsize=20)\n",
        "plt.show()"
      ],
      "execution_count": 8,
      "outputs": [
        {
          "output_type": "display_data",
          "data": {
            "text/plain": [
              "<Figure size 720x720 with 0 Axes>"
            ]
          },
          "metadata": {
            "tags": []
          }
        },
        {
          "output_type": "display_data",
          "data": {
            "image/png": "[encoded data removed]",
            "text/plain": [
              "<Figure size 1800x720 with 2 Axes>"
            ]
          },
          "metadata": {
            "tags": [],
            "needs_background": "light"
          }
        }
      ]
    },
    {
      "cell_type": "code",
      "metadata": {
        "id": "ZqAXu8CpZPiY",
        "outputId": "1f472cff-b3cc-4221-8b46-ace2e0dffeac",
        "colab": {
          "base_uri": "https://localhost:8080/",
          "height": 947
        }
      },
      "source": [
        "msno.bar(covid19)\n"
      ],
      "execution_count": 9,
      "outputs": [
        {
          "output_type": "execute_result",
          "data": {
            "text/plain": [
              "<matplotlib.axes._subplots.AxesSubplot at 0x7f73dfc37cf8>"
            ]
          },
          "metadata": {
            "tags": []
          },
          "execution_count": 9
        },
        {
          "output_type": "display_data",
          "data": {
            "image/png": "[encoded data removed]",
            "text/plain": [
              "<Figure size 1728x720 with 3 Axes>"
            ]
          },
          "metadata": {
            "tags": [],
            "needs_background": "light"
          }
        }
      ]
    },
    {
      "cell_type": "code",
      "metadata": {
        "id": "aWd9XEU85-gk",
        "outputId": "c117d207-f99e-46b9-cb13-db711c08ca28",
        "colab": {
          "base_uri": "https://localhost:8080/"
        }
      },
      "source": [
        "#Verificação da quantidade de linhas faltantes no dataframe:\n",
        "covid19.isnull().sum()"
      ],
      "execution_count": 10,
      "outputs": [
        {
          "output_type": "execute_result",
          "data": {
            "text/plain": [
              "city                                              6484\n",
              "city_ibge_code                                    4051\n",
              "date                                                 0\n",
              "epidemiological_week                                 0\n",
              "estimated_population                              4051\n",
              "estimated_population_2019                         4051\n",
              "is_last                                              0\n",
              "is_repeated                                          0\n",
              "last_available_confirmed                             0\n",
              "last_available_confirmed_per_100k_inhabitants    18006\n",
              "last_available_date                                  0\n",
              "last_available_death_rate                            0\n",
              "last_available_deaths                                0\n",
              "order_for_place                                      0\n",
              "place_type                                           0\n",
              "state                                                0\n",
              "new_confirmed                                        0\n",
              "new_deaths                                           0\n",
              "dtype: int64"
            ]
          },
          "metadata": {
            "tags": []
          },
          "execution_count": 10
        }
      ]
    },
    {
      "cell_type": "code",
      "metadata": {
        "id": "yj4-3eSNbmfQ",
        "outputId": "c41f324a-0914-4bdc-ba2a-70068371284a",
        "colab": {
          "base_uri": "https://localhost:8080/"
        }
      },
      "source": [
        "#Verificação dos valores faltantes na base de dados.\n",
        "#pd.options.display.float_format='{:.0f}'.format\n",
        "pd.options.display.float_format='{:.2f} %'.format\n",
        "covid19.isnull().sum()/covid19.shape[0]*100\n"
      ],
      "execution_count": 11,
      "outputs": [
        {
          "output_type": "execute_result",
          "data": {
            "text/plain": [
              "city                                            0.64 %\n",
              "city_ibge_code                                  0.40 %\n",
              "date                                            0.00 %\n",
              "epidemiological_week                            0.00 %\n",
              "estimated_population                            0.40 %\n",
              "estimated_population_2019                       0.40 %\n",
              "is_last                                         0.00 %\n",
              "is_repeated                                     0.00 %\n",
              "last_available_confirmed                        0.00 %\n",
              "last_available_confirmed_per_100k_inhabitants   1.77 %\n",
              "last_available_date                             0.00 %\n",
              "last_available_death_rate                       0.00 %\n",
              "last_available_deaths                           0.00 %\n",
              "order_for_place                                 0.00 %\n",
              "place_type                                      0.00 %\n",
              "state                                           0.00 %\n",
              "new_confirmed                                   0.00 %\n",
              "new_deaths                                      0.00 %\n",
              "dtype: float64"
            ]
          },
          "metadata": {
            "tags": []
          },
          "execution_count": 11
        }
      ]
    },
    {
      "cell_type": "markdown",
      "metadata": {
        "id": "DNE7SI6t6Zk8"
      },
      "source": [
        "## *city_ibge_code*, *Estimated_Population*,*Estimated_population_2019* têm a mesma quantidade de missing values!\n",
        "\n",
        "> Desta forma, uma analise interessante de ser feita, justamente para validar se as linhas que contêm *missings* na coluna *city* necessáriamente têm *missing* nas colunas supracitadas:\n",
        "\n",
        "\n",
        "\n"
      ]
    },
    {
      "cell_type": "code",
      "metadata": {
        "id": "Q1eHD4YL7JOI",
        "outputId": "03417b47-e5db-4011-d107-c6c399c6e925",
        "colab": {
          "base_uri": "https://localhost:8080/"
        }
      },
      "source": [
        "verifyMissingRows = covid19.query('city_ibge_code != city_ibge_code')\n",
        "# verifyMissingRows\n",
        "verifyMissingRows.isnull().sum()"
      ],
      "execution_count": 12,
      "outputs": [
        {
          "output_type": "execute_result",
          "data": {
            "text/plain": [
              "city                                                0\n",
              "city_ibge_code                                   4051\n",
              "date                                                0\n",
              "epidemiological_week                                0\n",
              "estimated_population                             4051\n",
              "estimated_population_2019                        4051\n",
              "is_last                                             0\n",
              "is_repeated                                         0\n",
              "last_available_confirmed                            0\n",
              "last_available_confirmed_per_100k_inhabitants    4051\n",
              "last_available_date                                 0\n",
              "last_available_death_rate                           0\n",
              "last_available_deaths                               0\n",
              "order_for_place                                     0\n",
              "place_type                                          0\n",
              "state                                               0\n",
              "new_confirmed                                       0\n",
              "new_deaths                                          0\n",
              "dtype: int64"
            ]
          },
          "metadata": {
            "tags": []
          },
          "execution_count": 12
        }
      ]
    },
    {
      "cell_type": "markdown",
      "metadata": {
        "id": "c0n9b4-M9Uq7"
      },
      "source": [
        "# VOILÀ!\n",
        "\n",
        "> A tabela acima demonstra que todos os *missing values* da tabela que apresentam *missings* na tabela  **city_ibge_code**\n",
        "> Outro aspecto interessante é: todos os missings da variável **city** **não pertencem** ao conjunto de missings da variável **city_ibge_code**\n",
        "\n",
        "\n",
        "\n"
      ]
    },
    {
      "cell_type": "markdown",
      "metadata": {
        "id": "OnEf0DE7_Z9w"
      },
      "source": [
        "#Analisando a variavel **city**"
      ]
    },
    {
      "cell_type": "code",
      "metadata": {
        "id": "-VurvCsm_Vuc",
        "outputId": "3af0ced3-9024-49a7-f771-0f016bcd043e",
        "colab": {
          "base_uri": "https://localhost:8080/"
        }
      },
      "source": [
        "verifyCityMissingRows = covid19.query('city != city')\n",
        "verifyCityMissingRows.isnull().sum()"
      ],
      "execution_count": 13,
      "outputs": [
        {
          "output_type": "execute_result",
          "data": {
            "text/plain": [
              "city                                             6484\n",
              "city_ibge_code                                      0\n",
              "date                                                0\n",
              "epidemiological_week                                0\n",
              "estimated_population                                0\n",
              "estimated_population_2019                           0\n",
              "is_last                                             0\n",
              "is_repeated                                         0\n",
              "last_available_confirmed                            0\n",
              "last_available_confirmed_per_100k_inhabitants       6\n",
              "last_available_date                                 0\n",
              "last_available_death_rate                           0\n",
              "last_available_deaths                               0\n",
              "order_for_place                                     0\n",
              "place_type                                          0\n",
              "state                                               0\n",
              "new_confirmed                                       0\n",
              "new_deaths                                          0\n",
              "dtype: int64"
            ]
          },
          "metadata": {
            "tags": []
          },
          "execution_count": 13
        }
      ]
    },
    {
      "cell_type": "markdown",
      "metadata": {
        "id": "dajV_wnmDqGE"
      },
      "source": [
        "## Valores encontrados \n",
        ">De acordo com o dicionário de dados disponível no portal Brasil IO, quando não existe preenchimento para cidade, mas a contagem é para o estado, os valores são preenchidos com NaN, mas tambem pode ser preenchido como \"Importados/Indefinidos\"\n",
        "\n"
      ]
    },
    {
      "cell_type": "code",
      "metadata": {
        "id": "T02zm_ElANII",
        "outputId": "94342e69-647f-4175-dc70-13ec914a21cd",
        "colab": {
          "base_uri": "https://localhost:8080/"
        }
      },
      "source": [
        "verifyCityMissingRows = covid19.query('city != city or city == \"Importados/Indefinidos\"')\n",
        "verifyCityMissingRows.isnull().sum()\n"
      ],
      "execution_count": 14,
      "outputs": [
        {
          "output_type": "execute_result",
          "data": {
            "text/plain": [
              "city                                             6484\n",
              "city_ibge_code                                   4051\n",
              "date                                                0\n",
              "epidemiological_week                                0\n",
              "estimated_population                             4051\n",
              "estimated_population_2019                        4051\n",
              "is_last                                             0\n",
              "is_repeated                                         0\n",
              "last_available_confirmed                            0\n",
              "last_available_confirmed_per_100k_inhabitants    4057\n",
              "last_available_date                                 0\n",
              "last_available_death_rate                           0\n",
              "last_available_deaths                               0\n",
              "order_for_place                                     0\n",
              "place_type                                          0\n",
              "state                                               0\n",
              "new_confirmed                                       0\n",
              "new_deaths                                          0\n",
              "dtype: int64"
            ]
          },
          "metadata": {
            "tags": []
          },
          "execution_count": 14
        }
      ]
    },
    {
      "cell_type": "markdown",
      "metadata": {
        "id": "wpKr5Qn6GKXu"
      },
      "source": [
        "#\n",
        ">> A partir da tabela acima, é possível concluir que:\n",
        "\n",
        "\n",
        ">>*   Os missings da variável **city** não estão relacionados com outra coluna\n",
        ">>*   Quando há o valor **Importados/Indefinidos** preenchido, significa que as colunas **[city_ibge_code,estimated_population,  estimated_population_2019]** apresentam *missings*\n",
        "\n",
        ">> Apesar destes dados estarem faltando, isto não necessariamente implica que são inútel. Como foi possível perceber na tabela acima, o número de Casos e de Mortes *[new_confirmed,new_deaths]* não apresentam *missings*\n",
        "\n",
        "\n",
        ">> Portanto, mais uma análise é necessária: **A contagem de casos e de mortes é preenchida com zero ou algum númeor padrão dada as condições dos campos citados?**\n",
        "\n",
        "\n"
      ]
    },
    {
      "cell_type": "code",
      "metadata": {
        "id": "_woF0nVIOYYr",
        "outputId": "b3647b7e-8847-4974-8aec-62bcc523dc8a",
        "colab": {
          "base_uri": "https://localhost:8080/",
          "height": 669
        }
      },
      "source": [
        "teste = verifyCityMissingRows.groupby(['state','city'])[['new_deaths','new_confirmed']].sum()\n",
        "sp = teste.loc['MG','new_deaths']\n",
        "teste"
      ],
      "execution_count": 34,
      "outputs": [
        {
          "output_type": "execute_result",
          "data": {
            "text/html": [
              "<div>\n",
              "<style scoped>\n",
              "    .dataframe tbody tr th:only-of-type {\n",
              "        vertical-align: middle;\n",
              "    }\n",
              "\n",
              "    .dataframe tbody tr th {\n",
              "        vertical-align: top;\n",
              "    }\n",
              "\n",
              "    .dataframe thead th {\n",
              "        text-align: right;\n",
              "    }\n",
              "</style>\n",
              "<table border=\"1\" class=\"dataframe\">\n",
              "  <thead>\n",
              "    <tr style=\"text-align: right;\">\n",
              "      <th></th>\n",
              "      <th></th>\n",
              "      <th>new_deaths</th>\n",
              "      <th>new_confirmed</th>\n",
              "    </tr>\n",
              "    <tr>\n",
              "      <th>state</th>\n",
              "      <th>city</th>\n",
              "      <th></th>\n",
              "      <th></th>\n",
              "    </tr>\n",
              "  </thead>\n",
              "  <tbody>\n",
              "    <tr>\n",
              "      <th>AL</th>\n",
              "      <th>Importados/Indefinidos</th>\n",
              "      <td>8</td>\n",
              "      <td>8</td>\n",
              "    </tr>\n",
              "    <tr>\n",
              "      <th>BA</th>\n",
              "      <th>Importados/Indefinidos</th>\n",
              "      <td>54</td>\n",
              "      <td>7296</td>\n",
              "    </tr>\n",
              "    <tr>\n",
              "      <th>CE</th>\n",
              "      <th>Importados/Indefinidos</th>\n",
              "      <td>0</td>\n",
              "      <td>3437</td>\n",
              "    </tr>\n",
              "    <tr>\n",
              "      <th>DF</th>\n",
              "      <th>Importados/Indefinidos</th>\n",
              "      <td>301</td>\n",
              "      <td>26573</td>\n",
              "    </tr>\n",
              "    <tr>\n",
              "      <th>ES</th>\n",
              "      <th>Importados/Indefinidos</th>\n",
              "      <td>24</td>\n",
              "      <td>1166</td>\n",
              "    </tr>\n",
              "    <tr>\n",
              "      <th>GO</th>\n",
              "      <th>Importados/Indefinidos</th>\n",
              "      <td>0</td>\n",
              "      <td>0</td>\n",
              "    </tr>\n",
              "    <tr>\n",
              "      <th>MG</th>\n",
              "      <th>Importados/Indefinidos</th>\n",
              "      <td>78</td>\n",
              "      <td>2415</td>\n",
              "    </tr>\n",
              "    <tr>\n",
              "      <th>MT</th>\n",
              "      <th>Importados/Indefinidos</th>\n",
              "      <td>37</td>\n",
              "      <td>284</td>\n",
              "    </tr>\n",
              "    <tr>\n",
              "      <th>PA</th>\n",
              "      <th>Importados/Indefinidos</th>\n",
              "      <td>0</td>\n",
              "      <td>0</td>\n",
              "    </tr>\n",
              "    <tr>\n",
              "      <th>PB</th>\n",
              "      <th>Importados/Indefinidos</th>\n",
              "      <td>0</td>\n",
              "      <td>0</td>\n",
              "    </tr>\n",
              "    <tr>\n",
              "      <th>PE</th>\n",
              "      <th>Importados/Indefinidos</th>\n",
              "      <td>0</td>\n",
              "      <td>0</td>\n",
              "    </tr>\n",
              "    <tr>\n",
              "      <th>PR</th>\n",
              "      <th>Importados/Indefinidos</th>\n",
              "      <td>49</td>\n",
              "      <td>2139</td>\n",
              "    </tr>\n",
              "    <tr>\n",
              "      <th>RJ</th>\n",
              "      <th>Importados/Indefinidos</th>\n",
              "      <td>0</td>\n",
              "      <td>0</td>\n",
              "    </tr>\n",
              "    <tr>\n",
              "      <th>RN</th>\n",
              "      <th>Importados/Indefinidos</th>\n",
              "      <td>9</td>\n",
              "      <td>312</td>\n",
              "    </tr>\n",
              "    <tr>\n",
              "      <th>RO</th>\n",
              "      <th>Importados/Indefinidos</th>\n",
              "      <td>0</td>\n",
              "      <td>0</td>\n",
              "    </tr>\n",
              "    <tr>\n",
              "      <th>RR</th>\n",
              "      <th>Importados/Indefinidos</th>\n",
              "      <td>5</td>\n",
              "      <td>1493</td>\n",
              "    </tr>\n",
              "    <tr>\n",
              "      <th>RS</th>\n",
              "      <th>Importados/Indefinidos</th>\n",
              "      <td>0</td>\n",
              "      <td>0</td>\n",
              "    </tr>\n",
              "    <tr>\n",
              "      <th>SC</th>\n",
              "      <th>Importados/Indefinidos</th>\n",
              "      <td>0</td>\n",
              "      <td>7016</td>\n",
              "    </tr>\n",
              "    <tr>\n",
              "      <th>SP</th>\n",
              "      <th>Importados/Indefinidos</th>\n",
              "      <td>0</td>\n",
              "      <td>194</td>\n",
              "    </tr>\n",
              "  </tbody>\n",
              "</table>\n",
              "</div>"
            ],
            "text/plain": [
              "                              new_deaths  new_confirmed\n",
              "state city                                             \n",
              "AL    Importados/Indefinidos           8              8\n",
              "BA    Importados/Indefinidos          54           7296\n",
              "CE    Importados/Indefinidos           0           3437\n",
              "DF    Importados/Indefinidos         301          26573\n",
              "ES    Importados/Indefinidos          24           1166\n",
              "GO    Importados/Indefinidos           0              0\n",
              "MG    Importados/Indefinidos          78           2415\n",
              "MT    Importados/Indefinidos          37            284\n",
              "PA    Importados/Indefinidos           0              0\n",
              "PB    Importados/Indefinidos           0              0\n",
              "PE    Importados/Indefinidos           0              0\n",
              "PR    Importados/Indefinidos          49           2139\n",
              "RJ    Importados/Indefinidos           0              0\n",
              "RN    Importados/Indefinidos           9            312\n",
              "RO    Importados/Indefinidos           0              0\n",
              "RR    Importados/Indefinidos           5           1493\n",
              "RS    Importados/Indefinidos           0              0\n",
              "SC    Importados/Indefinidos           0           7016\n",
              "SP    Importados/Indefinidos           0            194"
            ]
          },
          "metadata": {
            "tags": []
          },
          "execution_count": 34
        }
      ]
    },
    {
      "cell_type": "code",
      "metadata": {
        "id": "rwe3vSBBfmbY",
        "outputId": "556bbf4f-584e-4be8-e285-a0ae194f162c",
        "colab": {
          "base_uri": "https://localhost:8080/",
          "height": 917
        }
      },
      "source": [
        "verifyCityMissingRows2 = covid19.query('city != city')\n",
        "teste2 = verifyCityMissingRows2.groupby(['state','city'])[['new_deaths','new_confirmed']].sum()\n",
        "sp2 = teste2.loc['MG','new_deaths']\n",
        "teste2"
      ],
      "execution_count": 33,
      "outputs": [
        {
          "output_type": "execute_result",
          "data": {
            "text/html": [
              "<div>\n",
              "<style scoped>\n",
              "    .dataframe tbody tr th:only-of-type {\n",
              "        vertical-align: middle;\n",
              "    }\n",
              "\n",
              "    .dataframe tbody tr th {\n",
              "        vertical-align: top;\n",
              "    }\n",
              "\n",
              "    .dataframe thead th {\n",
              "        text-align: right;\n",
              "    }\n",
              "</style>\n",
              "<table border=\"1\" class=\"dataframe\">\n",
              "  <thead>\n",
              "    <tr style=\"text-align: right;\">\n",
              "      <th></th>\n",
              "      <th>new_deaths</th>\n",
              "      <th>new_confirmed</th>\n",
              "    </tr>\n",
              "    <tr>\n",
              "      <th>state</th>\n",
              "      <th></th>\n",
              "      <th></th>\n",
              "    </tr>\n",
              "  </thead>\n",
              "  <tbody>\n",
              "    <tr>\n",
              "      <th>AC</th>\n",
              "      <td>699</td>\n",
              "      <td>31575</td>\n",
              "    </tr>\n",
              "    <tr>\n",
              "      <th>AL</th>\n",
              "      <td>2266</td>\n",
              "      <td>91603</td>\n",
              "    </tr>\n",
              "    <tr>\n",
              "      <th>AM</th>\n",
              "      <td>4622</td>\n",
              "      <td>165394</td>\n",
              "    </tr>\n",
              "    <tr>\n",
              "      <th>AP</th>\n",
              "      <td>751</td>\n",
              "      <td>52832</td>\n",
              "    </tr>\n",
              "    <tr>\n",
              "      <th>BA</th>\n",
              "      <td>7776</td>\n",
              "      <td>362563</td>\n",
              "    </tr>\n",
              "    <tr>\n",
              "      <th>CE</th>\n",
              "      <td>9395</td>\n",
              "      <td>278053</td>\n",
              "    </tr>\n",
              "    <tr>\n",
              "      <th>DF</th>\n",
              "      <td>3740</td>\n",
              "      <td>215850</td>\n",
              "    </tr>\n",
              "    <tr>\n",
              "      <th>ES</th>\n",
              "      <td>3919</td>\n",
              "      <td>161208</td>\n",
              "    </tr>\n",
              "    <tr>\n",
              "      <th>GO</th>\n",
              "      <td>5874</td>\n",
              "      <td>261347</td>\n",
              "    </tr>\n",
              "    <tr>\n",
              "      <th>MA</th>\n",
              "      <td>4119</td>\n",
              "      <td>187555</td>\n",
              "    </tr>\n",
              "    <tr>\n",
              "      <th>MG</th>\n",
              "      <td>9204</td>\n",
              "      <td>368609</td>\n",
              "    </tr>\n",
              "    <tr>\n",
              "      <th>MS</th>\n",
              "      <td>1634</td>\n",
              "      <td>84720</td>\n",
              "    </tr>\n",
              "    <tr>\n",
              "      <th>MT</th>\n",
              "      <td>3913</td>\n",
              "      <td>146698</td>\n",
              "    </tr>\n",
              "    <tr>\n",
              "      <th>PA</th>\n",
              "      <td>6790</td>\n",
              "      <td>257170</td>\n",
              "    </tr>\n",
              "    <tr>\n",
              "      <th>PB</th>\n",
              "      <td>3150</td>\n",
              "      <td>135325</td>\n",
              "    </tr>\n",
              "    <tr>\n",
              "      <th>PE</th>\n",
              "      <td>8724</td>\n",
              "      <td>165922</td>\n",
              "    </tr>\n",
              "    <tr>\n",
              "      <th>PI</th>\n",
              "      <td>2467</td>\n",
              "      <td>116742</td>\n",
              "    </tr>\n",
              "    <tr>\n",
              "      <th>PR</th>\n",
              "      <td>5362</td>\n",
              "      <td>220408</td>\n",
              "    </tr>\n",
              "    <tr>\n",
              "      <th>RJ</th>\n",
              "      <td>20905</td>\n",
              "      <td>315348</td>\n",
              "    </tr>\n",
              "    <tr>\n",
              "      <th>RN</th>\n",
              "      <td>2607</td>\n",
              "      <td>82719</td>\n",
              "    </tr>\n",
              "    <tr>\n",
              "      <th>RO</th>\n",
              "      <td>1474</td>\n",
              "      <td>73040</td>\n",
              "    </tr>\n",
              "    <tr>\n",
              "      <th>RR</th>\n",
              "      <td>695</td>\n",
              "      <td>59065</td>\n",
              "    </tr>\n",
              "    <tr>\n",
              "      <th>RS</th>\n",
              "      <td>5990</td>\n",
              "      <td>260188</td>\n",
              "    </tr>\n",
              "    <tr>\n",
              "      <th>SC</th>\n",
              "      <td>3202</td>\n",
              "      <td>273652</td>\n",
              "    </tr>\n",
              "    <tr>\n",
              "      <th>SE</th>\n",
              "      <td>2239</td>\n",
              "      <td>85226</td>\n",
              "    </tr>\n",
              "    <tr>\n",
              "      <th>SP</th>\n",
              "      <td>39717</td>\n",
              "      <td>1125936</td>\n",
              "    </tr>\n",
              "    <tr>\n",
              "      <th>TO</th>\n",
              "      <td>1112</td>\n",
              "      <td>76739</td>\n",
              "    </tr>\n",
              "  </tbody>\n",
              "</table>\n",
              "</div>"
            ],
            "text/plain": [
              "       new_deaths  new_confirmed\n",
              "state                           \n",
              "AC            699          31575\n",
              "AL           2266          91603\n",
              "AM           4622         165394\n",
              "AP            751          52832\n",
              "BA           7776         362563\n",
              "CE           9395         278053\n",
              "DF           3740         215850\n",
              "ES           3919         161208\n",
              "GO           5874         261347\n",
              "MA           4119         187555\n",
              "MG           9204         368609\n",
              "MS           1634          84720\n",
              "MT           3913         146698\n",
              "PA           6790         257170\n",
              "PB           3150         135325\n",
              "PE           8724         165922\n",
              "PI           2467         116742\n",
              "PR           5362         220408\n",
              "RJ          20905         315348\n",
              "RN           2607          82719\n",
              "RO           1474          73040\n",
              "RR            695          59065\n",
              "RS           5990         260188\n",
              "SC           3202         273652\n",
              "SE           2239          85226\n",
              "SP          39717        1125936\n",
              "TO           1112          76739"
            ]
          },
          "metadata": {
            "tags": []
          },
          "execution_count": 33
        }
      ]
    },
    {
      "cell_type": "code",
      "metadata": {
        "id": "1p_G44JJcFRK"
      },
      "source": [
        ""
      ],
      "execution_count": 35,
      "outputs": []
    },
    {
      "cell_type": "code",
      "metadata": {
        "id": "IgKCh94MUbcw",
        "outputId": "89e964a6-5e1d-4b0b-93e4-f74276b28398",
        "colab": {
          "base_uri": "https://localhost:8080/"
        }
      },
      "source": [
        "print('Os valores para mortes em valores  %f \\nOs valores para a variável city com NaN %f' % (sp,sp2))"
      ],
      "execution_count": 38,
      "outputs": [
        {
          "output_type": "stream",
          "text": [
            "Os valores para mortes em valores  78.000000 \n",
            "Os valores para a variável city com NaN 9204.000000\n"
          ],
          "name": "stdout"
        }
      ]
    },
    {
      "cell_type": "markdown",
      "metadata": {
        "id": "yyph1X0KXFhb"
      },
      "source": [
        "## Desta forma\n",
        "\n",
        ">>Se pode perceber que é relevante o número de mortes mesmo para os dados com valores faltantes para o nome da cidade."
      ]
    },
    {
      "cell_type": "markdown",
      "metadata": {
        "id": "LiWdl1H2Xdqp"
      },
      "source": [
        "## Estimando o impacto dos missings:\n",
        "\n",
        ">> Para estimar basta retirar os *missings* e ferificar a variação percentual com relação a base toda.\n",
        "\n"
      ]
    },
    {
      "cell_type": "code",
      "metadata": {
        "id": "QeU7nKf9Xu7q",
        "outputId": "84a8602a-7b36-4586-d084-1e9c479b4528",
        "colab": {
          "base_uri": "https://localhost:8080/"
        }
      },
      "source": [
        "Normal = covid19.groupby('state')['new_deaths','new_confirmed'].sum()\n",
        "droppedMissings =  covid19.dropna().groupby('state')['new_deaths','new_confirmed'].sum()\n",
        "pd.options.display.float_format='{:.2f} %'.format\n",
        "print('A perda estimada da quantidade de dados da base, caso os dados sejam dropados é %f ' \n",
        "      % ((1-(covid19.dropna().shape[0]/covid19.shape[0]))*100))\n"
      ],
      "execution_count": 64,
      "outputs": [
        {
          "output_type": "stream",
          "text": [
            "/usr/local/lib/python3.6/dist-packages/ipykernel_launcher.py:1: FutureWarning: Indexing with multiple keys (implicitly converted to a tuple of keys) will be deprecated, use a list instead.\n",
            "  \"\"\"Entry point for launching an IPython kernel.\n",
            "/usr/local/lib/python3.6/dist-packages/ipykernel_launcher.py:2: FutureWarning: Indexing with multiple keys (implicitly converted to a tuple of keys) will be deprecated, use a list instead.\n",
            "  \n"
          ],
          "name": "stderr"
        },
        {
          "output_type": "stream",
          "text": [
            "A perda estimada da quantidade de dados da base, caso os dados sejam dropados é 2.409807 \n"
          ],
          "name": "stdout"
        }
      ]
    },
    {
      "cell_type": "code",
      "metadata": {
        "id": "Td5jPAaLYko_",
        "outputId": "088673be-28ff-4a80-96ed-15c98c9bc26f",
        "colab": {
          "base_uri": "https://localhost:8080/",
          "height": 917
        }
      },
      "source": [
        "pd.options.display.float_format='{:.2f} %'.format\n",
        "(1-droppedMissings/Normal)*100\n"
      ],
      "execution_count": 47,
      "outputs": [
        {
          "output_type": "execute_result",
          "data": {
            "text/html": [
              "<div>\n",
              "<style scoped>\n",
              "    .dataframe tbody tr th:only-of-type {\n",
              "        vertical-align: middle;\n",
              "    }\n",
              "\n",
              "    .dataframe tbody tr th {\n",
              "        vertical-align: top;\n",
              "    }\n",
              "\n",
              "    .dataframe thead th {\n",
              "        text-align: right;\n",
              "    }\n",
              "</style>\n",
              "<table border=\"1\" class=\"dataframe\">\n",
              "  <thead>\n",
              "    <tr style=\"text-align: right;\">\n",
              "      <th></th>\n",
              "      <th>new_deaths</th>\n",
              "      <th>new_confirmed</th>\n",
              "    </tr>\n",
              "    <tr>\n",
              "      <th>state</th>\n",
              "      <th></th>\n",
              "      <th></th>\n",
              "    </tr>\n",
              "  </thead>\n",
              "  <tbody>\n",
              "    <tr>\n",
              "      <th>AC</th>\n",
              "      <td>50.07 %</td>\n",
              "      <td>50.20 %</td>\n",
              "    </tr>\n",
              "    <tr>\n",
              "      <th>AL</th>\n",
              "      <td>50.18 %</td>\n",
              "      <td>50.00 %</td>\n",
              "    </tr>\n",
              "    <tr>\n",
              "      <th>AM</th>\n",
              "      <td>50.31 %</td>\n",
              "      <td>50.50 %</td>\n",
              "    </tr>\n",
              "    <tr>\n",
              "      <th>AP</th>\n",
              "      <td>50.07 %</td>\n",
              "      <td>50.08 %</td>\n",
              "    </tr>\n",
              "    <tr>\n",
              "      <th>BA</th>\n",
              "      <td>50.50 %</td>\n",
              "      <td>51.24 %</td>\n",
              "    </tr>\n",
              "    <tr>\n",
              "      <th>CE</th>\n",
              "      <td>50.02 %</td>\n",
              "      <td>50.69 %</td>\n",
              "    </tr>\n",
              "    <tr>\n",
              "      <th>DF</th>\n",
              "      <td>54.02 %</td>\n",
              "      <td>56.16 %</td>\n",
              "    </tr>\n",
              "    <tr>\n",
              "      <th>ES</th>\n",
              "      <td>53.20 %</td>\n",
              "      <td>56.00 %</td>\n",
              "    </tr>\n",
              "    <tr>\n",
              "      <th>GO</th>\n",
              "      <td>49.97 %</td>\n",
              "      <td>49.99 %</td>\n",
              "    </tr>\n",
              "    <tr>\n",
              "      <th>MA</th>\n",
              "      <td>50.04 %</td>\n",
              "      <td>50.03 %</td>\n",
              "    </tr>\n",
              "    <tr>\n",
              "      <th>MG</th>\n",
              "      <td>50.79 %</td>\n",
              "      <td>50.75 %</td>\n",
              "    </tr>\n",
              "    <tr>\n",
              "      <th>MS</th>\n",
              "      <td>50.71 %</td>\n",
              "      <td>50.81 %</td>\n",
              "    </tr>\n",
              "    <tr>\n",
              "      <th>MT</th>\n",
              "      <td>64.56 %</td>\n",
              "      <td>69.31 %</td>\n",
              "    </tr>\n",
              "    <tr>\n",
              "      <th>PA</th>\n",
              "      <td>50.01 %</td>\n",
              "      <td>50.00 %</td>\n",
              "    </tr>\n",
              "    <tr>\n",
              "      <th>PB</th>\n",
              "      <td>50.03 %</td>\n",
              "      <td>50.09 %</td>\n",
              "    </tr>\n",
              "    <tr>\n",
              "      <th>PE</th>\n",
              "      <td>49.99 %</td>\n",
              "      <td>50.00 %</td>\n",
              "    </tr>\n",
              "    <tr>\n",
              "      <th>PI</th>\n",
              "      <td>50.00 %</td>\n",
              "      <td>49.99 %</td>\n",
              "    </tr>\n",
              "    <tr>\n",
              "      <th>PR</th>\n",
              "      <td>51.80 %</td>\n",
              "      <td>52.25 %</td>\n",
              "    </tr>\n",
              "    <tr>\n",
              "      <th>RJ</th>\n",
              "      <td>50.64 %</td>\n",
              "      <td>50.70 %</td>\n",
              "    </tr>\n",
              "    <tr>\n",
              "      <th>RN</th>\n",
              "      <td>50.62 %</td>\n",
              "      <td>51.38 %</td>\n",
              "    </tr>\n",
              "    <tr>\n",
              "      <th>RO</th>\n",
              "      <td>50.24 %</td>\n",
              "      <td>50.34 %</td>\n",
              "    </tr>\n",
              "    <tr>\n",
              "      <th>RR</th>\n",
              "      <td>50.36 %</td>\n",
              "      <td>51.59 %</td>\n",
              "    </tr>\n",
              "    <tr>\n",
              "      <th>RS</th>\n",
              "      <td>50.15 %</td>\n",
              "      <td>50.51 %</td>\n",
              "    </tr>\n",
              "    <tr>\n",
              "      <th>SC</th>\n",
              "      <td>50.31 %</td>\n",
              "      <td>51.94 %</td>\n",
              "    </tr>\n",
              "    <tr>\n",
              "      <th>SE</th>\n",
              "      <td>50.04 %</td>\n",
              "      <td>50.05 %</td>\n",
              "    </tr>\n",
              "    <tr>\n",
              "      <th>SP</th>\n",
              "      <td>50.00 %</td>\n",
              "      <td>50.01 %</td>\n",
              "    </tr>\n",
              "    <tr>\n",
              "      <th>TO</th>\n",
              "      <td>50.00 %</td>\n",
              "      <td>49.99 %</td>\n",
              "    </tr>\n",
              "  </tbody>\n",
              "</table>\n",
              "</div>"
            ],
            "text/plain": [
              "       new_deaths  new_confirmed\n",
              "state                           \n",
              "AC        50.07 %        50.20 %\n",
              "AL        50.18 %        50.00 %\n",
              "AM        50.31 %        50.50 %\n",
              "AP        50.07 %        50.08 %\n",
              "BA        50.50 %        51.24 %\n",
              "CE        50.02 %        50.69 %\n",
              "DF        54.02 %        56.16 %\n",
              "ES        53.20 %        56.00 %\n",
              "GO        49.97 %        49.99 %\n",
              "MA        50.04 %        50.03 %\n",
              "MG        50.79 %        50.75 %\n",
              "MS        50.71 %        50.81 %\n",
              "MT        64.56 %        69.31 %\n",
              "PA        50.01 %        50.00 %\n",
              "PB        50.03 %        50.09 %\n",
              "PE        49.99 %        50.00 %\n",
              "PI        50.00 %        49.99 %\n",
              "PR        51.80 %        52.25 %\n",
              "RJ        50.64 %        50.70 %\n",
              "RN        50.62 %        51.38 %\n",
              "RO        50.24 %        50.34 %\n",
              "RR        50.36 %        51.59 %\n",
              "RS        50.15 %        50.51 %\n",
              "SC        50.31 %        51.94 %\n",
              "SE        50.04 %        50.05 %\n",
              "SP        50.00 %        50.01 %\n",
              "TO        50.00 %        49.99 %"
            ]
          },
          "metadata": {
            "tags": []
          },
          "execution_count": 47
        }
      ]
    },
    {
      "cell_type": "markdown",
      "metadata": {
        "id": "vk0cFmsqa865"
      },
      "source": [
        "## 2,4% de linhas faltantes afetam a contagem de mortes e casos em torno de 50%!"
      ]
    },
    {
      "cell_type": "markdown",
      "metadata": {
        "id": "8GKI4InQeYKT"
      },
      "source": [
        "## Análise last_available_confirmed_per_100k_habitants\n",
        "\n",
        ">> Esta é a coluna que mais apresenta missigns. Sua definição na base no *metadados* no portal brasil.io é:\n",
        "\n",
        ">>>>\"Número de casos confirmados por 100.000 habitantes do último dia disponível igual ou anterior à data date.\"\n",
        "\n",
        "\n",
        "\n",
        "\n"
      ]
    },
    {
      "cell_type": "code",
      "metadata": {
        "id": "eo-9ZzOyhQ8A",
        "outputId": "4ab206ab-b471-4e83-b2d4-ba9712ccc2e3",
        "colab": {
          "base_uri": "https://localhost:8080/"
        }
      },
      "source": [
        "oneHundK = covid19.query('last_available_confirmed_per_100k_inhabitants != last_available_confirmed_per_100k_inhabitants')\n",
        "oneHundK.isnull().sum()"
      ],
      "execution_count": 18,
      "outputs": [
        {
          "output_type": "execute_result",
          "data": {
            "text/plain": [
              "city                                                 6\n",
              "city_ibge_code                                    4051\n",
              "date                                                 0\n",
              "epidemiological_week                                 0\n",
              "estimated_population                              4051\n",
              "estimated_population_2019                         4051\n",
              "is_last                                              0\n",
              "is_repeated                                          0\n",
              "last_available_confirmed                             0\n",
              "last_available_confirmed_per_100k_inhabitants    18006\n",
              "last_available_date                                  0\n",
              "last_available_death_rate                            0\n",
              "last_available_deaths                                0\n",
              "order_for_place                                      0\n",
              "place_type                                           0\n",
              "state                                                0\n",
              "new_confirmed                                        0\n",
              "new_deaths                                           0\n",
              "dtype: int64"
            ]
          },
          "metadata": {
            "tags": []
          },
          "execution_count": 18
        }
      ]
    },
    {
      "cell_type": "markdown",
      "metadata": {
        "id": "JnYhAsTwh6O9"
      },
      "source": [
        "## Ou seja...\n",
        "\n",
        ">>Todos os \"Importados/Indefinidos\" estão contidos no subgrupo de *missing* da análise por habitantes. \n",
        ">> Agora, é importante entender como estão os valores que não incluem os *missings* do código IBGE.\n",
        "\n"
      ]
    },
    {
      "cell_type": "code",
      "metadata": {
        "id": "gIm8ngXxAgV1",
        "outputId": "b9a15afa-f191-4e64-d6ef-593b78d16429",
        "colab": {
          "base_uri": "https://localhost:8080/"
        }
      },
      "source": [
        "oneHundKNoCodeMissing = oneHundK.query('city_ibge_code==city_ibge_code')\n",
        "oneHundKNoCodeMissing.isnull().sum()"
      ],
      "execution_count": 19,
      "outputs": [
        {
          "output_type": "execute_result",
          "data": {
            "text/plain": [
              "city                                                 6\n",
              "city_ibge_code                                       0\n",
              "date                                                 0\n",
              "epidemiological_week                                 0\n",
              "estimated_population                                 0\n",
              "estimated_population_2019                            0\n",
              "is_last                                              0\n",
              "is_repeated                                          0\n",
              "last_available_confirmed                             0\n",
              "last_available_confirmed_per_100k_inhabitants    13955\n",
              "last_available_date                                  0\n",
              "last_available_death_rate                            0\n",
              "last_available_deaths                                0\n",
              "order_for_place                                      0\n",
              "place_type                                           0\n",
              "state                                                0\n",
              "new_confirmed                                        0\n",
              "new_deaths                                           0\n",
              "dtype: int64"
            ]
          },
          "metadata": {
            "tags": []
          },
          "execution_count": 19
        }
      ]
    },
    {
      "cell_type": "markdown",
      "metadata": {
        "id": "tSTbjcmyHlJH"
      },
      "source": [
        "# Assim,\n",
        "\n",
        "Podemos concluir que não existe um padrão nos *missings* da taxa por cem mil hab."
      ]
    },
    {
      "cell_type": "markdown",
      "metadata": {
        "id": "IFs9ZbWONSgw"
      },
      "source": [
        "## Conclusão Pré analise dos dados\n",
        "\n",
        ">> Como se pode notar pela tabela acima, os dados com messings values e com nomes não correspondentes das cidades **ainda apresentam valores importantes para a análise dos estados**. Desta forma, caso as linhas com os *gaps* identificados fossem excluídas, a base seria impactada 2,4% (dados perdidos que contribuem em carca de 50% o número consolidado em uma análise de estados)\n",
        "\n",
        ">> Portanto, com relação às variáveis de **cidade** os valores não serão excluídos da tabela. Porém, todas as análises de microregiões deverão ser feitas com ressalvas.\n",
        ">> Para os *missings* de last_available_confirmed_per_100k_inhabitants não haverá impacto nas análises posterios pois é possível estimar esta taxa a partir das outras variáveis do dataset.\n",
        "\n",
        "\n",
        "\n"
      ]
    },
    {
      "cell_type": "code",
      "metadata": {
        "id": "NSMHnf7H4D-C"
      },
      "source": [
        ""
      ],
      "execution_count": 19,
      "outputs": []
    },
    {
      "cell_type": "code",
      "metadata": {
        "id": "8jDLqiF04d6L"
      },
      "source": [
        ""
      ],
      "execution_count": 19,
      "outputs": []
    }
  ]
}